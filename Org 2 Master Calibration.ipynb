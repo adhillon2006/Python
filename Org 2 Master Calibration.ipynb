{
 "cells": [
  {
   "cell_type": "markdown",
   "metadata": {},
   "source": [
    "# Master Calibration\n",
    "Below are the libraries you will need for this script."
   ]
  },
  {
   "cell_type": "code",
   "execution_count": 8,
   "metadata": {},
   "outputs": [],
   "source": [
    "import pandas as pd\n",
    "import numpy as np\n",
    "import win32com.client as MyWinCOM\n",
    "import win32com.client\n",
    "from datetime import datetime\n",
    "import os"
   ]
  },
  {
   "cell_type": "markdown",
   "metadata": {},
   "source": [
    "# Path, Directory, and Loading File\n",
    "When loading the file we use \"dtype = str\" to load everything as a object. You will receive an error during the excel script because python and excel treat date fields differently."
   ]
  },
  {
   "cell_type": "code",
   "execution_count": 9,
   "metadata": {},
   "outputs": [],
   "source": [
    "filepath = 'C:/Users/adhillon/Desktop/Test E-Comp/'\n",
    "os.chdir(filepath)\n",
    "file = 'FY20 Q3 Master Calibration File Test.xlsx'\n",
    "df = pd.read_excel(file, sheet_name = \"PERF DATA\", dtype = str, skiprows = [0])"
   ]
  },
  {
   "cell_type": "markdown",
   "metadata": {},
   "source": [
    "# Pre-Precessing\n",
    "We want to remove all the nan's and exclude all empty Org 2 Managers. When the Org 2 Manager is blank it means the worker is an Org 2 Manager"
   ]
  },
  {
   "cell_type": "code",
   "execution_count": 10,
   "metadata": {},
   "outputs": [],
   "source": [
    "df = df.fillna('')\n",
    "df = df.replace(to_replace= 'nan', value = '')\n",
    "df = df[df[\"Org 2\"]!=\"\"]"
   ]
  },
  {
   "cell_type": "markdown",
   "metadata": {},
   "source": [
    "# Excel API\n",
    "Win32com helps you to manipulate excel through an API. There are other libraries like openpyxl that are also able to manipulate excel; however, the drawback is openpyxl will delete exisiting charts. \n",
    "\n",
    "- First we dispatch the API\n",
    "- Second we open the workbook"
   ]
  },
  {
   "cell_type": "code",
   "execution_count": 11,
   "metadata": {},
   "outputs": [],
   "source": [
    "xl = win32com.client.Dispatch(\"Excel.Application\")\n",
    "wb = xl.Workbooks.Open(\"C:/Users/adhillon/Desktop/Test E-Comp/FY20 Q3 Master Calibration Org 2 Template.xlsm\") # template"
   ]
  },
  {
   "cell_type": "markdown",
   "metadata": {},
   "source": [
    "# Looping through Org 2\n",
    "We create a big loop to go through all the Org2s\n",
    "\n",
    "## Macro\n",
    "The macro is used mainly for copy formulas, replacing N/As and formatting columns\n",
    "- Sheets(\"PERF DATA\").Cells.Replace What:=\"#N/A\", Replacement:=\"\", LookAt:=xlPart, SearchOrder:=xlByRows (Replaces #NA)\n",
    "- lstrow1 = Sheets(\"PERF DATA\").Cells(Rows.Count, 1).End(xlUp).Row (this function tell you the last row in the first column)\n",
    "- Sheets(\"PERF DATA\").Range(\"O3:O\" & lstrow1).Formula (This function lets you copy a formula to the last row)\n",
    "- Sheets(\"PERF DATA\").Range(\"J:J\").NumberFormat (Function formats the column to short date)"
   ]
  },
  {
   "cell_type": "code",
   "execution_count": 12,
   "metadata": {},
   "outputs": [],
   "source": [
    "for Org2_Name in df[\"Org 2\"].unique():\n",
    "    df_filter = df[df[\"Org 2\"]==Org2_Name]\n",
    "    df2 = np.ascontiguousarray(df_filter)\n",
    "    lta_df3 = df2.tolist()\n",
    "    ws = wb.Worksheets(\"PERF DATA\")\n",
    "# Formulas and formatting\n",
    "    ws.Range(\"A3:AO4462\").ClearContents() #clear content\n",
    "    start_row = 3\n",
    "    start_col = 1\n",
    "    ws.Range(ws.Cells(start_row,start_col),\n",
    "        ws.Cells(start_row+len(df.index)-1,start_col+len(df.columns))).Value = lta_df3\n",
    "    xl.Application.Run(\"ReplaceNA\") # run macro\n",
    "    # time.sleep(5)\n",
    "# Summary Sheet Starts\n",
    "    ws = wb.Worksheets(\"SUMMARY\")\n",
    "    row_manager = 28\n",
    "    for x in sorted(df_filter['Org 3'].unique()):\n",
    "            ws.Range(str(\"M\"+str(row_manager))).Value= x\n",
    "            row_manager+=2\n",
    "    row_sub_bus = 69\n",
    "    for x in sorted(df_filter['Sub Business Area'].unique()):\n",
    "            ws.Range(str(\"M\"+str(row_sub_bus))).Value= x\n",
    "            row_sub_bus+=2\n",
    "    row = 90\n",
    "    for x in sorted(df_filter['Career Level '].unique()):\n",
    "            ws.Range(str(\"M\"+str(row))).Value= x\n",
    "            row+=2\n",
    "    save_path = \"C:\\\\Users\\\\adhillon\\\\Desktop\\\\Test E-Comp\\\\Org 2 Master Calibration\\\\\"\n",
    "    filename = save_path+Org2_Name+\" FY20 Q3 Calibration File.xlsm\"\n",
    "    wb.SaveAs(filename)\n",
    "# Clean\n",
    "    row_manager = 28\n",
    "    for x in df_filter['Org 3'].unique():\n",
    "            ws.Range(str(\"M\"+str(row_manager))).Value= \"\"\n",
    "            row_manager+=2\n",
    "    row_sub_bus = 69\n",
    "    for x in sorted(df_filter['Sub Business Area'].unique()):\n",
    "            ws.Range(str(\"M\"+str(row_sub_bus))).Value= \"\"\n",
    "            row_sub_bus+=2\n",
    "    row = 90\n",
    "    for x in sorted(df_filter['Career Level '].unique()):\n",
    "            ws.Range(str(\"M\"+str(row))).Value= \"\"\n",
    "            row+=2\n",
    "    ws = None"
   ]
  },
  {
   "cell_type": "markdown",
   "metadata": {},
   "source": [
    "# Quit Excel and Empty Variables\n",
    "We do this to make sure there is no memory being misused. Also do not save the last file"
   ]
  },
  {
   "cell_type": "code",
   "execution_count": 13,
   "metadata": {},
   "outputs": [],
   "source": [
    "wb.Close()\n",
    "xl.Quit()\n",
    "wb = None\n",
    "sheet = None\n",
    "book = None\n",
    "excel = None"
   ]
  }
 ],
 "metadata": {
  "kernelspec": {
   "display_name": "Python 3",
   "language": "python",
   "name": "python3"
  },
  "language_info": {
   "codemirror_mode": {
    "name": "ipython",
    "version": 3
   },
   "file_extension": ".py",
   "mimetype": "text/x-python",
   "name": "python",
   "nbconvert_exporter": "python",
   "pygments_lexer": "ipython3",
   "version": "3.7.0"
  }
 },
 "nbformat": 4,
 "nbformat_minor": 2
}
